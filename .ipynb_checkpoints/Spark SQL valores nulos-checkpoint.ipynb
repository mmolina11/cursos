{
 "cells": [
  {
   "cell_type": "code",
   "execution_count": 11,
   "metadata": {
    "collapsed": true
   },
   "outputs": [],
   "source": [
    "from pyspark.sql import SparkSession"
   ]
  },
  {
   "cell_type": "code",
   "execution_count": 12,
   "metadata": {
    "collapsed": false
   },
   "outputs": [],
   "source": [
    "spark=SparkSession.builder.appName('nulos').getOrCreate()"
   ]
  },
  {
   "cell_type": "code",
   "execution_count": 13,
   "metadata": {
    "collapsed": false
   },
   "outputs": [],
   "source": [
    "df=spark.read.csv('Null.csv', inferSchema=True, header=True)"
   ]
  },
  {
   "cell_type": "code",
   "execution_count": 14,
   "metadata": {
    "collapsed": false
   },
   "outputs": [
    {
     "name": "stdout",
     "output_type": "stream",
     "text": [
      "root\n",
      " |-- Id: string (nullable = true)\n",
      " |-- Nombre: string (nullable = true)\n",
      " |-- Ventas: integer (nullable = true)\n",
      " |-- Clientes: integer (nullable = true)\n",
      "\n"
     ]
    }
   ],
   "source": [
    "df.printSchema()"
   ]
  },
  {
   "cell_type": "code",
   "execution_count": 15,
   "metadata": {
    "collapsed": false
   },
   "outputs": [
    {
     "name": "stdout",
     "output_type": "stream",
     "text": [
      "+----+------+------+--------+\n",
      "|  Id|Nombre|Ventas|Clientes|\n",
      "+----+------+------+--------+\n",
      "|emp1|  John|  null|       3|\n",
      "|emp2|      |  null|    null|\n",
      "|emp3|      |   345|    null|\n",
      "|emp4| Cindy|   456|       4|\n",
      "+----+------+------+--------+\n",
      "\n"
     ]
    }
   ],
   "source": [
    "df.show()"
   ]
  },
  {
   "cell_type": "markdown",
   "metadata": {},
   "source": [
    "# para quitar cualquier null "
   ]
  },
  {
   "cell_type": "code",
   "execution_count": 16,
   "metadata": {
    "collapsed": false
   },
   "outputs": [
    {
     "name": "stdout",
     "output_type": "stream",
     "text": [
      "+----+------+------+--------+\n",
      "|  Id|Nombre|Ventas|Clientes|\n",
      "+----+------+------+--------+\n",
      "|emp4| Cindy|   456|       4|\n",
      "+----+------+------+--------+\n",
      "\n"
     ]
    }
   ],
   "source": [
    "df.na.drop().show()"
   ]
  },
  {
   "cell_type": "code",
   "execution_count": 17,
   "metadata": {
    "collapsed": false
   },
   "outputs": [
    {
     "name": "stdout",
     "output_type": "stream",
     "text": [
      "+----+------+------+--------+\n",
      "|  Id|Nombre|Ventas|Clientes|\n",
      "+----+------+------+--------+\n",
      "|emp4| Cindy|   456|       4|\n",
      "+----+------+------+--------+\n",
      "\n"
     ]
    }
   ],
   "source": [
    "df.na.drop(thresh=4).show()"
   ]
  },
  {
   "cell_type": "code",
   "execution_count": 18,
   "metadata": {
    "collapsed": false
   },
   "outputs": [
    {
     "name": "stdout",
     "output_type": "stream",
     "text": [
      "+----+------+------+--------+\n",
      "|  Id|Nombre|Ventas|Clientes|\n",
      "+----+------+------+--------+\n",
      "|emp4| Cindy|   456|       4|\n",
      "+----+------+------+--------+\n",
      "\n"
     ]
    }
   ],
   "source": [
    "df.na.drop(how='any').show()"
   ]
  },
  {
   "cell_type": "code",
   "execution_count": 19,
   "metadata": {
    "collapsed": false
   },
   "outputs": [
    {
     "name": "stdout",
     "output_type": "stream",
     "text": [
      "+----+------+------+--------+\n",
      "|  Id|Nombre|Ventas|Clientes|\n",
      "+----+------+------+--------+\n",
      "|emp1|  John|  null|       3|\n",
      "|emp2|      |  null|    null|\n",
      "|emp3|      |   345|    null|\n",
      "|emp4| Cindy|   456|       4|\n",
      "+----+------+------+--------+\n",
      "\n"
     ]
    }
   ],
   "source": [
    "df.na.drop(how='all').show()"
   ]
  },
  {
   "cell_type": "code",
   "execution_count": 20,
   "metadata": {
    "collapsed": false
   },
   "outputs": [
    {
     "name": "stdout",
     "output_type": "stream",
     "text": [
      "+----+------+------+--------+\n",
      "|  Id|Nombre|Ventas|Clientes|\n",
      "+----+------+------+--------+\n",
      "|emp1|  John|  null|       3|\n",
      "|emp4| Cindy|   456|       4|\n",
      "+----+------+------+--------+\n",
      "\n"
     ]
    }
   ],
   "source": [
    "df.na.drop(subset='Clientes').show()"
   ]
  },
  {
   "cell_type": "markdown",
   "metadata": {},
   "source": [
    "# rellenar = fill()"
   ]
  },
  {
   "cell_type": "code",
   "execution_count": 21,
   "metadata": {
    "collapsed": false
   },
   "outputs": [
    {
     "name": "stdout",
     "output_type": "stream",
     "text": [
      "+----+------+------+--------+\n",
      "|  Id|Nombre|Ventas|Clientes|\n",
      "+----+------+------+--------+\n",
      "|emp1|  John|     0|       3|\n",
      "|emp2|      |     0|       0|\n",
      "|emp3|      |   345|       0|\n",
      "|emp4| Cindy|   456|       4|\n",
      "+----+------+------+--------+\n",
      "\n"
     ]
    }
   ],
   "source": [
    "df.na.fill(0).show()"
   ]
  },
  {
   "cell_type": "code",
   "execution_count": 22,
   "metadata": {
    "collapsed": false
   },
   "outputs": [
    {
     "name": "stdout",
     "output_type": "stream",
     "text": [
      "+----+------+------+--------+\n",
      "|  Id|Nombre|Ventas|Clientes|\n",
      "+----+------+------+--------+\n",
      "|emp1|  John|     0|       3|\n",
      "|emp2|      |     0|    null|\n",
      "|emp3|      |   345|    null|\n",
      "|emp4| Cindy|   456|       4|\n",
      "+----+------+------+--------+\n",
      "\n"
     ]
    }
   ],
   "source": [
    "df.na.fill(0, subset=['Ventas']).show()"
   ]
  },
  {
   "cell_type": "code",
   "execution_count": 23,
   "metadata": {
    "collapsed": true
   },
   "outputs": [],
   "source": [
    "# para llenarlos con la media "
   ]
  },
  {
   "cell_type": "code",
   "execution_count": 27,
   "metadata": {
    "collapsed": true
   },
   "outputs": [],
   "source": [
    "from pyspark.sql.functions import mean"
   ]
  },
  {
   "cell_type": "code",
   "execution_count": 33,
   "metadata": {
    "collapsed": false
   },
   "outputs": [],
   "source": [
    "media = df.select(mean(df['Ventas'])).collect()"
   ]
  },
  {
   "cell_type": "markdown",
   "metadata": {},
   "source": [
    "media"
   ]
  },
  {
   "cell_type": "code",
   "execution_count": 36,
   "metadata": {
    "collapsed": false
   },
   "outputs": [
    {
     "name": "stdout",
     "output_type": "stream",
     "text": [
      "+----+------+------+--------+\n",
      "|  Id|Nombre|Ventas|Clientes|\n",
      "+----+------+------+--------+\n",
      "|emp1|  John|   400|       3|\n",
      "|emp2|      |   400|    null|\n",
      "|emp3|      |   345|    null|\n",
      "|emp4| Cindy|   456|       4|\n",
      "+----+------+------+--------+\n",
      "\n"
     ]
    }
   ],
   "source": [
    "df.na.fill(media[0][0],['Ventas']).show()"
   ]
  },
  {
   "cell_type": "code",
   "execution_count": null,
   "metadata": {
    "collapsed": true
   },
   "outputs": [],
   "source": []
  }
 ],
 "metadata": {
  "anaconda-cloud": {},
  "kernelspec": {
   "display_name": "Python [Root]",
   "language": "python",
   "name": "Python [Root]"
  },
  "language_info": {
   "codemirror_mode": {
    "name": "ipython",
    "version": 3
   },
   "file_extension": ".py",
   "mimetype": "text/x-python",
   "name": "python",
   "nbconvert_exporter": "python",
   "pygments_lexer": "ipython3",
   "version": "3.5.2"
  }
 },
 "nbformat": 4,
 "nbformat_minor": 0
}
