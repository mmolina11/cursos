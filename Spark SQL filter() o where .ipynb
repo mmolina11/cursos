{
 "cells": [
  {
   "cell_type": "markdown",
   "metadata": {},
   "source": [
    "# Spark SQL filter() o where()"
   ]
  },
  {
   "cell_type": "code",
   "execution_count": 1,
   "metadata": {
    "collapsed": true
   },
   "outputs": [],
   "source": [
    "from pyspark.sql import SparkSession"
   ]
  },
  {
   "cell_type": "code",
   "execution_count": 3,
   "metadata": {
    "collapsed": false
   },
   "outputs": [],
   "source": [
    "spark= SparkSession.builder.appName('filter').getOrCreate()"
   ]
  },
  {
   "cell_type": "code",
   "execution_count": 6,
   "metadata": {
    "collapsed": false
   },
   "outputs": [],
   "source": [
    "df= spark.read.csv('AAPL.csv', inferSchema= True, header= True)"
   ]
  },
  {
   "cell_type": "code",
   "execution_count": 7,
   "metadata": {
    "collapsed": false
   },
   "outputs": [
    {
     "name": "stdout",
     "output_type": "stream",
     "text": [
      "+--------------------+---------+---------+---------+---------+---------+---------+\n",
      "|                Date|     Open|     High|      Low|    Close|Adj Close|   Volume|\n",
      "+--------------------+---------+---------+---------+---------+---------+---------+\n",
      "|2010-01-04 00:00:...|    30.49|30.642857|    30.34|30.572857|26.466835|123432400|\n",
      "|2010-01-05 00:00:...|30.657143|30.798571|30.464285|30.625713|26.512596|150476200|\n",
      "|2010-01-06 00:00:...|30.625713|30.747143|30.107143|30.138571|26.090879|138040000|\n",
      "|2010-01-07 00:00:...|    30.25|30.285715|29.864286|30.082857|26.042646|119282800|\n",
      "|2010-01-08 00:00:...|30.042856|30.285715|29.865715|30.282858|26.215786|111902700|\n",
      "|2010-01-11 00:00:...|     30.4|30.428572|29.778572|30.015715|25.984528|115557400|\n",
      "|2010-01-12 00:00:...|29.884285|29.967142|29.488571|29.674286|25.688946|148614900|\n",
      "|2010-01-13 00:00:...|29.695715|30.132856|29.157143|30.092857|26.051304|151473000|\n",
      "|2010-01-14 00:00:...|30.015715|30.065714|29.860001|29.918571|25.900436|108223500|\n",
      "|2010-01-15 00:00:...|30.132856|30.228571|    29.41|29.418571|25.467583|148516900|\n",
      "|2010-01-19 00:00:...|29.761429|30.741428|29.605715|30.719999|26.594227|182501900|\n",
      "|2010-01-20 00:00:...|30.701429|30.792856|29.928572|30.247143| 26.18487|153038200|\n",
      "|2010-01-21 00:00:...|30.297142|30.472857|29.601429|29.724285|25.732233|152038600|\n",
      "|2010-01-22 00:00:...|29.540001|29.642857|28.165714|    28.25|24.455948|220441900|\n",
      "|2010-01-25 00:00:...|    28.93|29.242857|28.598572|    29.01|25.113882|266424900|\n",
      "|2010-01-26 00:00:...|29.421429|30.530001|28.940001|    29.42|25.468813|466777500|\n",
      "|2010-01-27 00:00:...|29.549999|30.082857|28.504286|29.697144|25.708735|430642100|\n",
      "|2010-01-28 00:00:...|29.275715|29.357143|28.385714|28.469999|24.646406|293375600|\n",
      "|2010-01-29 00:00:...|28.725714|28.885714|27.178572|27.437143| 23.75227|311488100|\n",
      "|2010-02-01 00:00:...|27.481428|     28.0|27.328571|27.818571|24.082464|187469100|\n",
      "+--------------------+---------+---------+---------+---------+---------+---------+\n",
      "only showing top 20 rows\n",
      "\n"
     ]
    }
   ],
   "source": [
    "df.show()"
   ]
  },
  {
   "cell_type": "code",
   "execution_count": 9,
   "metadata": {
    "collapsed": false
   },
   "outputs": [
    {
     "name": "stdout",
     "output_type": "stream",
     "text": [
      "root\n",
      " |-- Date: timestamp (nullable = true)\n",
      " |-- Open: double (nullable = true)\n",
      " |-- High: double (nullable = true)\n",
      " |-- Low: double (nullable = true)\n",
      " |-- Close: double (nullable = true)\n",
      " |-- Adj Close: double (nullable = true)\n",
      " |-- Volume: integer (nullable = true)\n",
      "\n"
     ]
    }
   ],
   "source": [
    "df.printSchema()"
   ]
  },
  {
   "cell_type": "code",
   "execution_count": 13,
   "metadata": {
    "collapsed": false
   },
   "outputs": [
    {
     "data": {
      "text/plain": [
       "Row(Date=datetime.datetime(2010, 1, 4, 0, 0), Open=30.49, High=30.642857, Low=30.34, Close=30.572857, Adj Close=26.466835, Volume=123432400)"
      ]
     },
     "execution_count": 13,
     "metadata": {},
     "output_type": "execute_result"
    }
   ],
   "source": [
    "df.head(3)[0]"
   ]
  },
  {
   "cell_type": "code",
   "execution_count": 18,
   "metadata": {
    "collapsed": false
   },
   "outputs": [
    {
     "name": "stdout",
     "output_type": "stream",
     "text": [
      "+---------+---------+\n",
      "|     Open|    Close|\n",
      "+---------+---------+\n",
      "|29.884285|29.674286|\n",
      "|30.015715|29.918571|\n",
      "|30.132856|29.418571|\n",
      "|30.297142|29.724285|\n",
      "|29.540001|    28.25|\n",
      "|    28.93|    29.01|\n",
      "|29.421429|    29.42|\n",
      "|29.549999|29.697144|\n",
      "|29.275715|28.469999|\n",
      "|28.725714|27.437143|\n",
      "|27.481428|27.818571|\n",
      "|27.987143|    27.98|\n",
      "|27.881428|28.461428|\n",
      "|28.104286|27.435715|\n",
      "|27.518572|27.922857|\n",
      "|27.955715|27.731428|\n",
      "|28.059999|28.027143|\n",
      "|27.984285|27.874287|\n",
      "|    27.84|28.381428|\n",
      "|28.301428|28.625713|\n",
      "+---------+---------+\n",
      "only showing top 20 rows\n",
      "\n"
     ]
    }
   ],
   "source": [
    "df.filter(df[\"Close\"] < 30).select(['Open', 'Close']).show()"
   ]
  },
  {
   "cell_type": "code",
   "execution_count": 19,
   "metadata": {
    "collapsed": false
   },
   "outputs": [
    {
     "name": "stdout",
     "output_type": "stream",
     "text": [
      "+---------+---------+\n",
      "|     Open|    Close|\n",
      "+---------+---------+\n",
      "|29.884285|29.674286|\n",
      "|30.015715|29.918571|\n",
      "|30.132856|29.418571|\n",
      "|30.297142|29.724285|\n",
      "|29.540001|    28.25|\n",
      "|    28.93|    29.01|\n",
      "|29.421429|    29.42|\n",
      "|29.549999|29.697144|\n",
      "|29.275715|28.469999|\n",
      "|28.725714|27.437143|\n",
      "|27.481428|27.818571|\n",
      "|27.987143|    27.98|\n",
      "|27.881428|28.461428|\n",
      "|28.104286|27.435715|\n",
      "|27.518572|27.922857|\n",
      "|27.955715|27.731428|\n",
      "|28.059999|28.027143|\n",
      "|27.984285|27.874287|\n",
      "|    27.84|28.381428|\n",
      "|28.301428|28.625713|\n",
      "+---------+---------+\n",
      "only showing top 20 rows\n",
      "\n"
     ]
    }
   ],
   "source": [
    "df.where(df[\"Close\"] < 30).select(['Open', 'Close']).show()"
   ]
  },
  {
   "cell_type": "code",
   "execution_count": 22,
   "metadata": {
    "collapsed": false
   },
   "outputs": [
    {
     "name": "stdout",
     "output_type": "stream",
     "text": [
      "+---------+---------+\n",
      "|     Open|    Close|\n",
      "+---------+---------+\n",
      "|30.015715|29.918571|\n",
      "|30.132856|29.418571|\n",
      "|30.297142|29.724285|\n",
      "+---------+---------+\n",
      "\n"
     ]
    }
   ],
   "source": [
    "df.filter((df[\"Close\"] < 30) & ~(df[\"Open\"] < 30)).select(['Open', 'Close']).show()"
   ]
  },
  {
   "cell_type": "code",
   "execution_count": 23,
   "metadata": {
    "collapsed": false
   },
   "outputs": [
    {
     "name": "stdout",
     "output_type": "stream",
     "text": [
      "+--------------------+-----+---------+-----+---------+---------+---------+\n",
      "|                Date| Open|     High|  Low|    Close|Adj Close|   Volume|\n",
      "+--------------------+-----+---------+-----+---------+---------+---------+\n",
      "|2010-01-04 00:00:...|30.49|30.642857|30.34|30.572857|26.466835|123432400|\n",
      "+--------------------+-----+---------+-----+---------+---------+---------+\n",
      "\n"
     ]
    }
   ],
   "source": [
    "df.filter(df['Low']==30.34).show()"
   ]
  },
  {
   "cell_type": "code",
   "execution_count": 28,
   "metadata": {
    "collapsed": true
   },
   "outputs": [],
   "source": [
    "resultado= df.filter(df['Low']==30.34).collect()"
   ]
  },
  {
   "cell_type": "code",
   "execution_count": 29,
   "metadata": {
    "collapsed": false
   },
   "outputs": [
    {
     "data": {
      "text/plain": [
       "[Row(Date=datetime.datetime(2010, 1, 4, 0, 0), Open=30.49, High=30.642857, Low=30.34, Close=30.572857, Adj Close=26.466835, Volume=123432400)]"
      ]
     },
     "execution_count": 29,
     "metadata": {},
     "output_type": "execute_result"
    }
   ],
   "source": [
    "resultado"
   ]
  },
  {
   "cell_type": "code",
   "execution_count": null,
   "metadata": {
    "collapsed": true
   },
   "outputs": [],
   "source": []
  }
 ],
 "metadata": {
  "anaconda-cloud": {},
  "kernelspec": {
   "display_name": "Python [Root]",
   "language": "python",
   "name": "Python [Root]"
  },
  "language_info": {
   "codemirror_mode": {
    "name": "ipython",
    "version": 3
   },
   "file_extension": ".py",
   "mimetype": "text/x-python",
   "name": "python",
   "nbconvert_exporter": "python",
   "pygments_lexer": "ipython3",
   "version": "3.5.2"
  }
 },
 "nbformat": 4,
 "nbformat_minor": 0
}
